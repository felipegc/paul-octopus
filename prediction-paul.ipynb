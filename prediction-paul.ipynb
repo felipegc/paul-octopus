{
 "cells": [
  {
   "cell_type": "code",
   "execution_count": null,
   "metadata": {
    "collapsed": false,
    "deletable": true,
    "editable": true
   },
   "outputs": [],
   "source": [
    "import datalab.bigquery as bq\n",
    "import google.datalab.storage as storage\n",
    "from datalab.context import Context\n",
    "import pandas as pd\n",
    "from pandas.io import gbq\n",
    "import math\n",
    "\n",
    "projectId = Context.default().project_id"
   ]
  },
  {
   "cell_type": "code",
   "execution_count": null,
   "metadata": {
    "collapsed": true,
    "deletable": true,
    "editable": true
   },
   "outputs": [],
   "source": [
    "def create_content_drive(text):\n",
    "  print 'Generating the result...'\n",
    "  bucket_name = 'ciandt_projectoctopus_2018_felipegc'\n",
    "  bucket = storage.Bucket(bucket_name)\n",
    "  result_object = bucket.object('predictions.csv')\n",
    "  result_object.write_stream(text, 'text/plain')\n"
   ]
  },
  {
   "cell_type": "code",
   "execution_count": null,
   "metadata": {
    "collapsed": false,
    "deletable": true,
    "editable": true
   },
   "outputs": [],
   "source": [
    "sql_percent_record = \"\"\"\n",
    "SELECT \n",
    "  CASE\n",
    "    WHEN team = 'South Korea' THEN 'Korea Republic'\n",
    "    ELSE team\n",
    "  END AS team,\n",
    "  SUM(cnt_performance_match) as num_matches,\n",
    "  SUM(cnt_performance_match) * 3 AS max_points,\n",
    "  ROUND(SUM(percent_record) / (SUM(cnt_performance_match) * 3), 2) AS percent_record,\n",
    "  SUM(scores) AS total_scores\n",
    "FROM (\n",
    "  SELECT\n",
    "    team,\n",
    "    what_happened,\n",
    "    cnt_performance_match,\n",
    "    CASE\n",
    "      WHEN what_happened = 'lost' THEN cnt_performance_match * 0\n",
    "      WHEN what_happened = 'tied' THEN cnt_performance_match * 1\n",
    "      WHEN what_happened = 'won' THEN cnt_performance_match * 3\n",
    "    END AS percent_record,\n",
    "    scores\n",
    "  FROM (\n",
    "    SELECT\n",
    "      team,\n",
    "      what_happened,\n",
    "      COUNT(*) AS cnt_performance_match,\n",
    "      SUM(scores) AS scores\n",
    "    FROM (\n",
    "      SELECT\n",
    "        *\n",
    "      FROM (\n",
    "        SELECT\n",
    "          year,\n",
    "          home AS team,\n",
    "          home_score AS scores,\n",
    "          CASE\n",
    "            WHEN home_score > away_score THEN 'won'\n",
    "            WHEN home_score < away_score THEN 'lost'\n",
    "            WHEN home_score = away_score THEN 'tied'\n",
    "          END AS what_happened\n",
    "        FROM\n",
    "          [paul_the_octopus_dataset.matches_history] ) home,\n",
    "        (\n",
    "        SELECT\n",
    "          year,\n",
    "          away AS team,\n",
    "          away_score AS scores,\n",
    "          CASE\n",
    "            WHEN away_score > home_score THEN 'won'\n",
    "            WHEN away_score < home_score THEN 'lost'\n",
    "            WHEN home_score = away_score THEN 'tied'\n",
    "          END AS what_happened\n",
    "        FROM\n",
    "          [paul_the_octopus_dataset.matches_history] ) away\n",
    "      ORDER BY\n",
    "        year ASC)\n",
    "    GROUP BY\n",
    "      1,\n",
    "      2) )\n",
    "GROUP BY\n",
    "  1\n",
    "\"\"\"\n",
    "print 'Running query...'\n",
    "percent_record = gbq.read_gbq(sql_percent_record, project_id=projectId)\n",
    "percent_record[:5]"
   ]
  },
  {
   "cell_type": "code",
   "execution_count": null,
   "metadata": {
    "collapsed": false,
    "deletable": true,
    "editable": true
   },
   "outputs": [],
   "source": [
    "sql_rank = \"\"\"\n",
    "SELECT\n",
    "  rank,\n",
    "  team,\n",
    "  total_points,\n",
    "  INTEGER(rank / 5) + 1 AS rank_group\n",
    "FROM\n",
    "  [paul_the_octopus_dataset.fifa_rank]\n",
    "\"\"\"\n",
    "\n",
    "print 'Running query...'\n",
    "rank = gbq.read_gbq(sql_rank, project_id=projectId)\n",
    "rank[:15]"
   ]
  },
  {
   "cell_type": "code",
   "execution_count": null,
   "metadata": {
    "collapsed": false,
    "deletable": true,
    "editable": true
   },
   "outputs": [],
   "source": [
    "team_status = \\\n",
    "  rank.merge(percent_record, left_on='team', right_on='team', how='left').sort_values(by='rank', ascending=True).fillna(0)\n",
    "\n",
    "team_status[:50]"
   ]
  },
  {
   "cell_type": "code",
   "execution_count": null,
   "metadata": {
    "collapsed": true,
    "deletable": true,
    "editable": true
   },
   "outputs": [],
   "source": [
    "def calculate_weights(team_1, team_2):\n",
    "  #normalizing and applying weights if necessary\n",
    "  weight_percent_record = 1000 * 3 \n",
    "  weight_rank = 1 * 2\n",
    "  weight_scores = 10 * 1\n",
    "  \n",
    "  team_1_percent_record = team_1['percent_record'].values[0] * weight_percent_record\n",
    "  team_2_percent_record = team_2['percent_record'].values[0] * weight_percent_record\n",
    "  \n",
    "  team_1_rank = team_1['total_points'].values[0] * weight_rank\n",
    "  team_2_rank = team_2['total_points'].values[0] * weight_rank\n",
    "  \n",
    "  team_1_scores = team_1['total_scores'].values[0] * weight_scores\n",
    "  team_2_scores = team_2['total_scores'].values[0] * weight_scores\n",
    "  \n",
    "  team_1_weight = int(team_1_percent_record + team_1_rank + team_1_scores)\n",
    "  team_2_weight = int(team_2_percent_record + team_2_rank + team_2_scores)\n",
    "  \n",
    "  return team_1_weight, team_2_weight\n",
    "  "
   ]
  },
  {
   "cell_type": "code",
   "execution_count": null,
   "metadata": {
    "collapsed": false,
    "deletable": true,
    "editable": true
   },
   "outputs": [],
   "source": [
    "def calculate_winner(team_1, team_2):\n",
    "  winner = ''\n",
    "  diff_weight = 150\n",
    "  \n",
    "  team_1_weight, team_2_weight = calculate_weights(team_1, team_2)\n",
    "  \n",
    "  print team_1_weight\n",
    "  print team_2_weight\n",
    "\n",
    "  if team_1_weight - team_2_weight > diff_weight:\n",
    "    winner = 'team_1'\n",
    "  elif team_2_weight - team_1_weight > diff_weight:\n",
    "    winner = 'team_2'\n",
    "  else:\n",
    "    winner = 'no_one'\n",
    "    \n",
    "  print 'winner calculated is {}'.format(winner)\n",
    "  \n",
    "  return winner, team_1_weight, team_2_weight"
   ]
  },
  {
   "cell_type": "code",
   "execution_count": null,
   "metadata": {
    "collapsed": false,
    "deletable": true,
    "editable": true
   },
   "outputs": [],
   "source": [
    "def calculate_score(team_1, team_2, team_1_weight, team_2_weight, winner):\n",
    "  \n",
    "  def calculate_avg_score(team):\n",
    "      avg_scores_per_match = int(team['total_scores'].values[0] / team['num_matches'].values[0]) \\\n",
    "                           if team['num_matches'].values[0] > 0 else 0\n",
    "      return avg_scores_per_match\n",
    "  \n",
    "  def play_match(winner, looser, weight_winner, weight_looser, tied):\n",
    "    winner_score = 0\n",
    "    looser_score = 0\n",
    "    \n",
    "    if tied:\n",
    "      tied_score = calculate_avg_score(winner) if weight_winner > weight_looser else calculate_avg_score(looser)\n",
    "      print 'tied_score -> {}'.format(tied_score)\n",
    "\n",
    "      return tied_score, tied_score\n",
    "      \n",
    "    winner_score = math.ceil(weight_winner / (weight_looser * 1.0))\n",
    "    \n",
    "    looser_avg_scores = calculate_avg_score(looser) \n",
    "    looser_score = winner_score - 1 if looser_avg_scores >= winner_score else looser_avg_scores\n",
    "\n",
    "    print 'winner_score -> {}'.format(winner_score)\n",
    "    print 'looser_score -> {}'.format(looser_score)\n",
    "    \n",
    "    return winner_score, looser_score\n",
    "    \n",
    "  if winner == 'team_1':\n",
    "    score_left, score_right = play_match(team_1, team_2, team_1_weight, team_2_weight, False)\n",
    "    return team_1['team'].values[0], score_left, score_right, team_2['team'].values[0]\n",
    "  elif winner == 'team_2':\n",
    "    #swap the score position since team_2 belongs to the right side(away) of the match\n",
    "    score_right, score_left = play_match(team_2, team_1, team_2_weight, team_1_weight, False)\n",
    "    return team_1['team'].values[0], score_left, score_right, team_2['team'].values[0]\n",
    "  else:\n",
    "    tied_score, tied_score = play_match(team_1, team_2, team_1_weight, team_2_weight, True)\n",
    "    return team_1['team'].values[0], tied_score, tied_score, team_2['team'].values[0]\n",
    "  "
   ]
  },
  {
   "cell_type": "code",
   "execution_count": null,
   "metadata": {
    "collapsed": true,
    "deletable": true,
    "editable": true
   },
   "outputs": [],
   "source": [
    "def predict_match(team_1, team_2):\n",
    "  winner, team_1_weight, team_2_weight = calculate_winner(team_1, team_2)\n",
    "  return calculate_score(team_1, team_2, team_1_weight, team_2_weight, winner)\n",
    "  "
   ]
  },
  {
   "cell_type": "code",
   "execution_count": null,
   "metadata": {
    "collapsed": false,
    "deletable": true,
    "editable": true
   },
   "outputs": [],
   "source": [
    "sql_matches = \"\"\"\n",
    "SELECT\n",
    "  date,\n",
    "  RTRIM(LTRIM(home)) AS team_1,\n",
    "  RTRIM(LTRIM(away)) AS team_2,\n",
    "FROM\n",
    "  [paul_the_octopus_dataset.matches]\n",
    "\"\"\"\n",
    "\n",
    "matches = gbq.read_gbq(sql_matches, project_id=projectId)\n",
    "matches[:5]\n"
   ]
  },
  {
   "cell_type": "code",
   "execution_count": null,
   "metadata": {
    "collapsed": false,
    "deletable": true,
    "editable": true
   },
   "outputs": [],
   "source": [
    "def predict_matches():\n",
    "  print 'predicting matches...'\n",
    "  out = 'home,home_score,away_score,away'\n",
    "  \n",
    "  for index, row in matches.iterrows():\n",
    "    print 'predicting match between {} X {}'.format(row['team_1'], row['team_2'])\n",
    "    \n",
    "    team_1_data = team_status.loc[team_status['team'] == row['team_1']]\n",
    "    team_2_data = team_status.loc[team_status['team'] == row['team_2']]\n",
    "    \n",
    "    team_1, score_1, score_2, team_2 = predict_match(team_1_data, team_2_data)\n",
    "    out += '\\r\\n{},{},{},{}'.format(team_1, score_1, score_2, team_2)\n",
    "  \n",
    "  print out\n",
    "  \n",
    "  return out\n",
    "    "
   ]
  },
  {
   "cell_type": "code",
   "execution_count": null,
   "metadata": {
    "collapsed": false,
    "deletable": true,
    "editable": true
   },
   "outputs": [],
   "source": [
    "# team_1_data = team_status.loc[team_status['team'] == 'Brazil']\n",
    "# team_2_data = team_status.loc[team_status['team'] == 'Germany']\n",
    "# predict_match(team_1_data, team_2_data)\n",
    "\n",
    "create_content_drive(predict_matches())"
   ]
  },
  {
   "cell_type": "code",
   "execution_count": null,
   "metadata": {
    "collapsed": true,
    "deletable": true,
    "editable": true
   },
   "outputs": [],
   "source": []
  }
 ],
 "metadata": {
  "kernelspec": {
   "display_name": "Python 2",
   "language": "python",
   "name": "python2"
  },
  "language_info": {
   "codemirror_mode": {
    "name": "ipython",
    "version": 2
   },
   "file_extension": ".py",
   "mimetype": "text/x-python",
   "name": "python",
   "nbconvert_exporter": "python",
   "pygments_lexer": "ipython2",
   "version": "2.7.15"
  }
 },
 "nbformat": 4,
 "nbformat_minor": 2
}
